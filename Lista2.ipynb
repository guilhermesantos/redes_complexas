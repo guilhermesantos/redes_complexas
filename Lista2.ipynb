{
 "cells": [
  {
   "cell_type": "markdown",
   "metadata": {},
   "source": [
    "## Imports principais"
   ]
  },
  {
   "cell_type": "code",
   "execution_count": 1,
   "metadata": {},
   "outputs": [],
   "source": [
    "import networkx as nx\n",
    "import matplotlib\n",
    "import matplotlib.pyplot as plt\n",
    "import seaborn as sns\n",
    "import pandas as pd\n",
    "import numpy as np\n",
    "import pickle\n",
    "import scipy.stats as stats\n",
    "from sklearn.decomposition import PCA\n",
    "#import osmnx as ox\n",
    "#networkx.algorithms.community.community_generators.LFR_benchmark_graph\n",
    "from networkx.algorithms.community.community_generators import LFR_benchmark_graph\n",
    "from networkx.algorithms import community\n",
    "from community import community_louvain\n",
    "from networkx.algorithms.community.quality import modularity\n",
    "from networkx.algorithms.community.modularity_max import greedy_modularity_communities\n",
    "from sklearn.metrics import normalized_mutual_info_score as nmi\n",
    "import igraph\n",
    "import warnings\n",
    "import operator\n",
    "#warnings.simplefilter(action='ignore', category=FutureWarning)\n",
    "warnings.filterwarnings(\"ignore\")"
   ]
  },
  {
   "cell_type": "markdown",
   "metadata": {},
   "source": [
    "## Definições de funções\n",
    "### Aqui serão definidas as funções utilizadas no restante do código, facilitando a leitura do código nos enunciados.\n"
   ]
  },
  {
   "cell_type": "code",
   "execution_count": 2,
   "metadata": {},
   "outputs": [],
   "source": [
    "def betweenessCentrality(graph):\n",
    "    x = dict(nx.betweenness_centrality(graph))\n",
    "    x = pd.Series(x)\n",
    "    return x\n",
    "\n",
    "def closenessCentrality(graph):\n",
    "    x = dict(nx.closeness_centrality(graph))\n",
    "    x = pd.Series(x)\n",
    "    return x\n",
    "\n",
    "def communicabilityCentrality(graph):\n",
    "    x = pd.DataFrame(nx.communicability_exp(graph))\n",
    "    x = pd.Series(np.diag(x))\n",
    "    return x\n",
    "\n",
    "def degrees(graph):\n",
    "    x = dict(nx.degree(graph))\n",
    "    x = pd.Series(x)\n",
    "    return x\n",
    "\n",
    "def eigenVectorCentrality(graph,max_iter=100):\n",
    "    x = dict(nx.eigenvector_centrality(graph, max_iter=max_iter))\n",
    "    x = pd.Series(x)\n",
    "    return x\n",
    "\n",
    "def kCore(graph):\n",
    "    x = dict(nx.core_number(graph))\n",
    "    x = pd.Series(x)\n",
    "    return x\n",
    "\n",
    "def knnDegree(graph):\n",
    "    x = dict(nx.average_degree_connectivity(graph))\n",
    "    degrees = pd.Series(list(x.keys()))\n",
    "    knn = pd.Series(list(x.values()))\n",
    "    return degrees, knn\n",
    "\n",
    "def pageRank(graph, alpha=0.85):\n",
    "    x = dict(nx.pagerank(graph, alpha=alpha))\n",
    "    x = pd.Series(x)\n",
    "    return x\n",
    "\n",
    "def plotCorr(corr):\n",
    "    import matplotlib.pyplot as plt\n",
    "    f = plt.figure(figsize=(10, 10))\n",
    "    plt.matshow(corr, fignum=f.number)\n",
    "    plt.xticks(range(corr.shape[0]), corr.columns, fontsize=12, rotation=90)\n",
    "    plt.yticks(range(corr.shape[1]), corr.columns, fontsize=12)\n",
    "    cb = plt.colorbar()\n",
    "    cb.ax.tick_params(labelsize=12)\n",
    "    plt.title('Correlation Matrix', fontsize=14,y=1);\n",
    "    plt.show()\n",
    "\n",
    "#Fonte: Material de aula\n",
    "def printInfo(graph):\n",
    "    N = len(graph)\n",
    "    M = graph.number_of_edges()\n",
    "    print('Nós:', N)\n",
    "    print('Arestas:', M)\n",
    "    print('Grau Médio:', 2*M/N)\n",
    "\n",
    "#Similar ao da lista 1, mas saída está em pd.Series    \n",
    "def random_walk(g, steps=100):\n",
    "    g_mat = nx.to_numpy_array(g, nodelist=sorted(g.nodes()))    \n",
    "    path = np.zeros((steps,), dtype=np.int64)\n",
    "    step = 0\n",
    "    for i in range(steps-1):\n",
    "        path[i] = step\n",
    "        step = np.random.choice(np.arange(g_mat.shape[1])[g_mat[step, :] > 0.0])\n",
    "    path[i+1] = step\n",
    "    return pd.Series(path)\n",
    "\n",
    "#m ==> degree of the moment\n",
    "def moment(vector, m):\n",
    "    total = vector.sum()\n",
    "    probs = vector / total\n",
    "    moment = np.sum((vector**m)*probs)\n",
    "    return moment\n",
    "\n",
    "def shannonEntropy(vector):\n",
    "    total = vector.sum()\n",
    "    probs = vector / total\n",
    "    H = np.sum(np.array([probs[i]*np.log2(probs[i]) if probs[i] != 0 else 0 for i in range(0,len(vector))]))\n",
    "    H *= -1\n",
    "    return H\n",
    "    \n"
   ]
  },
  {
   "cell_type": "markdown",
   "metadata": {},
   "source": [
    "## Leitura dos grafos principais (apenas o maior componente conexo é mantido)."
   ]
  },
  {
   "cell_type": "code",
   "execution_count": 3,
   "metadata": {},
   "outputs": [
    {
     "name": "stdout",
     "output_type": "stream",
     "text": [
      "\n",
      "\n",
      "USA Airport\n",
      "Nós: 1572\n",
      "Arestas: 17214\n",
      "Grau Médio: 21.900763358778626\n",
      "\n",
      "\n",
      "C-Elegans\n",
      "Fonte: https://snap.stanford.edu/data/C-elegans-frontal.html\n",
      "A versao em .gml estava dando erro.\n",
      "Nós: 131\n",
      "Arestas: 687\n",
      "Grau Médio: 10.488549618320612\n",
      "\n",
      "\n",
      "C-Elegans 2004\n",
      "Nós: 1084\n",
      "Arestas: 1602\n",
      "Grau Médio: 2.955719557195572\n",
      "\n",
      "\n",
      "C-Elegans 2007\n",
      "Nós: 1108\n",
      "Arestas: 1500\n",
      "Grau Médio: 2.707581227436823\n",
      "E-Roads\n",
      "Nós: 1039\n",
      "Arestas: 1305\n",
      "Grau Médio: 2.512030798845043\n",
      "\n",
      "\n",
      "Hamsterster Friends\n",
      "Nós: 1788\n",
      "Arestas: 12476\n",
      "Grau Médio: 13.955257270693512\n",
      "\n",
      "\n",
      "Human Protein\n",
      "Nós: 2783\n",
      "Arestas: 6007\n",
      "Grau Médio: 4.316924182536831\n",
      "\n",
      "\n",
      "Karate Club\n",
      "Nós: 34\n",
      "Arestas: 78\n",
      "Grau Médio: 4.588235294117647\n",
      "\n",
      "\n",
      "Power Grid\n",
      "Nós: 4941\n",
      "Arestas: 6594\n",
      "Grau Médio: 2.66909532483303\n",
      "\n",
      "\n",
      "R Dependencies\n",
      "Nós: 2447\n",
      "Arestas: 5439\n",
      "Grau Médio: 4.445443400081733\n",
      "\n",
      "\n",
      "Besalu\n",
      "Nós: 375\n",
      "Arestas: 528\n",
      "Grau Médio: 2.816\n",
      "\n",
      "\n",
      "Clovelly\n",
      "Nós: 135\n",
      "Arestas: 173\n",
      "Grau Médio: 2.562962962962963\n",
      "\n",
      "\n",
      "Walsdorf\n",
      "Nós: 336\n",
      "Arestas: 429\n",
      "Grau Médio: 2.5535714285714284\n",
      "\n",
      "\n",
      "Emilion\n",
      "Nós: 562\n",
      "Arestas: 730\n",
      "Grau Médio: 2.597864768683274\n"
     ]
    }
   ],
   "source": [
    "# Airport\n",
    "airport = nx.read_edgelist(\"datasets/USairport_2010.txt\", nodetype=int, data=(('weight',float),))\n",
    "airport = airport.to_undirected()\n",
    "airport = max(nx.connected_component_subgraphs(airport), key=len)\n",
    "airport = nx.convert_node_labels_to_integers(airport, first_label=0)\n",
    "print(\"\\n\\nUSA Airport\")\n",
    "printInfo(airport)\n",
    "\n",
    "# c-elegans neural\n",
    "celegans = nx.read_edgelist('datasets/C-elegans-frontal.txt')\n",
    "celegans = celegans.to_undirected()\n",
    "celegans = max(nx.connected_component_subgraphs(celegans), key=len)\n",
    "celegans = nx.convert_node_labels_to_integers(celegans, first_label=0)\n",
    "print(\"\\n\\nC-Elegans\")\n",
    "print(\"Fonte: https://snap.stanford.edu/data/C-elegans-frontal.html\\nA versao em .gml estava dando erro.\")\n",
    "printInfo(celegans)\n",
    "\n",
    "# c-elegans 2004\n",
    "celegans2004 = nx.read_edgelist('datasets/C-elegans-2004.txt')\n",
    "celegans2004 = max(nx.connected_component_subgraphs(celegans2004), key=len)\n",
    "celegans2004 = celegans2004.to_undirected()\n",
    "celegans2004.remove_edges_from(nx.selfloop_edges(celegans2004))\n",
    "celegans2004 = nx.convert_node_labels_to_integers(celegans2004, first_label=0)\n",
    "print(\"\\n\\nC-Elegans 2004\")\n",
    "printInfo(celegans2004)\n",
    "\n",
    "# c-elegans 2007\n",
    "celegans2007 = nx.read_edgelist('datasets/C-elegans-2007.txt')\n",
    "celegans2007 = celegans2007.to_undirected()\n",
    "celegans2007.remove_edges_from(nx.selfloop_edges(celegans2007))\n",
    "celegans2007 = max(nx.connected_component_subgraphs(celegans2007), key=len)\n",
    "celegans2007 = nx.convert_node_labels_to_integers(celegans2007, first_label=0)\n",
    "print(\"\\n\\nC-Elegans 2007\")\n",
    "printInfo(celegans2007)\n",
    "\n",
    "#E-Roads\n",
    "e_road = nx.read_edgelist('datasets/euroroad', comments='%')\n",
    "e_road = e_road.to_undirected()\n",
    "e_road = max(nx.connected_component_subgraphs(e_road), key=len)\n",
    "e_road = nx.convert_node_labels_to_integers(e_road, first_label=0)\n",
    "print(\"E-Roads\")\n",
    "printInfo(e_road)\n",
    "\n",
    "# Hamsterster Friends\n",
    "ham = nx.read_edgelist('datasets/hamsterster', comments='%')\n",
    "ham = max(nx.connected_component_subgraphs(ham), key=len)\n",
    "ham = ham.to_undirected()\n",
    "ham = nx.convert_node_labels_to_integers(ham, first_label=0)\n",
    "print(\"\\n\\nHamsterster Friends\")\n",
    "printInfo(ham)\n",
    "\n",
    "#Human Protein\n",
    "protein = nx.read_edgelist(\"datasets/out.maayan-vidal\", comments='%')\n",
    "protein = max(nx.connected_component_subgraphs(protein), key=len)\n",
    "protein = protein.to_undirected()\n",
    "protein.remove_edges_from(nx.selfloop_edges(protein))\n",
    "protein = nx.convert_node_labels_to_integers(protein, first_label=0)\n",
    "print(\"\\n\\nHuman Protein\")\n",
    "printInfo(protein)\n",
    "\n",
    "#Karate Club\n",
    "karate = nx.karate_club_graph()\n",
    "karate = max(nx.connected_component_subgraphs(karate), key=len)\n",
    "karate = karate.to_undirected()\n",
    "karate = nx.convert_node_labels_to_integers(karate, first_label=0)\n",
    "print(\"\\n\\nKarate Club\")\n",
    "printInfo(karate)\n",
    "\n",
    "#Power Grid\n",
    "power_grid = nx.read_gml('datasets/power.gml', label=None)\n",
    "power_grid = max(nx.connected_component_subgraphs(power_grid), key=len)\n",
    "power_grid = power_grid.to_undirected()\n",
    "power_grid.remove_edges_from(nx.selfloop_edges(power_grid))\n",
    "power_grid = nx.convert_node_labels_to_integers(power_grid, first_label=0)\n",
    "print(\"\\n\\nPower Grid\")\n",
    "printInfo(power_grid)\n",
    "\n",
    "#R Dependencies\n",
    "r_dependencies = nx.read_edgelist('datasets/Rdependencies.csv', comments='%', delimiter=',',nodetype=str)\n",
    "r_dependencies = max(nx.connected_component_subgraphs(r_dependencies), key=len)\n",
    "r_dependencies = r_dependencies.to_undirected()\n",
    "r_dependencies.remove_edges_from(nx.selfloop_edges(r_dependencies))\n",
    "r_dependencies = nx.convert_node_labels_to_integers(r_dependencies, first_label=0)\n",
    "\n",
    "print(\"\\n\\nR Dependencies\")\n",
    "printInfo(r_dependencies)\n",
    "\n",
    "#4 Cidades\n",
    "#Colocar leitura das 4 cidades aqui usando osmnx como plkaceholder\n",
    "#clovelly = ox.graph_from_place('Clovelly, Devon, South West England, England, EX39 5TQ, United Kingdom', which_result=2)\n",
    "#walsdorf = ox.graph_from_place('Walsdorf, Landkreis Bamberg, Upper Franconia, Bavaria, 96194, Germany', which_result=1)\n",
    "#emilion = ox.graph_from_place('Saint-Émilion, Libourne, Gironde, New Aquitaine, Metropolitan France, 33330, France', which_result=1)\n",
    "\n",
    "\n",
    "#Besalu\n",
    "with open('datasets/besalu','rb') as gfile:\n",
    "    besalu = pickle.load(gfile)\n",
    "besalu = besalu.to_undirected()\n",
    "besalu = max(nx.connected_component_subgraphs(besalu), key=len)\n",
    "besalu = nx.convert_node_labels_to_integers(besalu, first_label=0)\n",
    "print(\"\\n\\nBesalu\")\n",
    "printInfo(besalu)\n",
    "\n",
    "\n",
    "#Clovelly\n",
    "with open('datasets/clovelly','rb') as gfile:\n",
    "    clovelly = pickle.load(gfile)\n",
    "clovelly = clovelly.to_undirected()\n",
    "clovelly = max(nx.connected_component_subgraphs(clovelly), key=len)\n",
    "clovelly = nx.convert_node_labels_to_integers(clovelly, first_label=0)\n",
    "print(\"\\n\\nClovelly\")\n",
    "printInfo(clovelly)\n",
    "\n",
    "#Walsdorf\n",
    "with open('datasets/walsdorf','rb') as gfile:\n",
    "    walsdorf = pickle.load(gfile)\n",
    "walsdorf = walsdorf.to_undirected()\n",
    "walsdorf = max(nx.connected_component_subgraphs(walsdorf), key=len)\n",
    "walsdorf = nx.convert_node_labels_to_integers(walsdorf, first_label=0)\n",
    "print(\"\\n\\nWalsdorf\")\n",
    "printInfo(walsdorf)\n",
    "\n",
    "#Emilion\n",
    "with open('datasets/emilion','rb') as gfile:\n",
    "    emilion = pickle.load(gfile)\n",
    "emilion = emilion.to_undirected()\n",
    "emilion = max(nx.connected_component_subgraphs(emilion), key=len)\n",
    "emilion = nx.convert_node_labels_to_integers(emilion, first_label=0)\n",
    "print(\"\\n\\nEmilion\")\n",
    "printInfo(emilion)\n",
    "\n",
    "allCities = [(besalu,'Besalu'),(clovelly,'clovelly'), (walsdorf,'walsdorf'), (emilion,'emilion')]\n"
   ]
  },
  {
   "cell_type": "markdown",
   "metadata": {},
   "source": [
    "## Questões\n",
    "### Questão 1"
   ]
  },
  {
   "cell_type": "code",
   "execution_count": 4,
   "metadata": {},
   "outputs": [],
   "source": [
    "corr=dict() #maps a graphname to a pandas DataFrame with the correlations\n",
    "for graph in [e_road, ham, celegans, airport]:\n",
    "    d = degrees(graph)\n",
    "    cc = closenessCentrality(graph)\n",
    "    kc= kCore(graph)\n",
    "    bc = betweenessCentrality(graph)\n",
    "    ec = eigenVectorCentrality(graph,1000)\n",
    "    pr = pageRank(graph)\n",
    "    rw = random_walk(graph,100)\n",
    "    com = communicabilityCentrality(graph)\n",
    "    metrics = [(\"Betweeness Centrality\", bc),(\"Closeness Centrality\",cc),(\"Communicability Centrality\",com),(\"Degree\",d),\\\n",
    "               (\"EigenVector Centrality\",ec), ('K-Core',kc) ,(\"Page Rank\",pr),('Random Walk', rw)]\n",
    "    \n",
    "    #Makes correlation between the metrics and puts it into a DataFrame\n",
    "    pdCorr = dict()\n",
    "    for s1 in range(0,len(metrics)):\n",
    "        pdCorr[metrics[s1][0]] = dict()\n",
    "        for s2 in range(0,len(metrics)):\n",
    "            pdCorr[metrics[s1][0]][metrics[s2][0]] = metrics[s1][1].corr(metrics[s2][1])\n",
    "    #feeding dictionary\n",
    "    corr[graph] = pd.DataFrame(pdCorr)"
   ]
  },
  {
   "cell_type": "code",
   "execution_count": 5,
   "metadata": {},
   "outputs": [
    {
     "data": {
      "image/png": "[encoded data removed]",
      "text/plain": [
       "<Figure size 720x720 with 2 Axes>"
      ]
     },
     "metadata": {
      "needs_background": "light"
     },
     "output_type": "display_data"
    }
   ],
   "source": [
    "plotCorr(corr[e_road])"
   ]
  },
  {
   "cell_type": "markdown",
   "metadata": {},
   "source": [
    "Para E-Roads: Poucos atributos possuem alta correlação, portanto todos os atributos trazem informações novas, no entanto caso seja necessário reduzir os atributos removeria dois dentre {PageRank, Degree e Comunicability Centrality}. Caso precisasse deixar apenas 2 atributos deixaria Random Walk e Closeness Centrality, pois tem correlação próxima de 0."
   ]
  },
  {
   "cell_type": "code",
   "execution_count": 6,
   "metadata": {},
   "outputs": [
    {
     "data": {
      "image/png": "[encoded data removed]",
      "text/plain": [
       "<Figure size 720x720 with 2 Axes>"
      ]
     },
     "metadata": {
      "needs_background": "light"
     },
     "output_type": "display_data"
    }
   ],
   "source": [
    "plotCorr(corr[ham])"
   ]
  },
  {
   "cell_type": "markdown",
   "metadata": {},
   "source": [
    "Para Hamsterster Friends: Muitos atributos são correlacionados, exceto pelo Random Walk. Utilizaria poucos atributos para descrever a base: {Random Walk, K-Core, Communicability Centrlity} talvez Closeness Centrality."
   ]
  },
  {
   "cell_type": "code",
   "execution_count": 7,
   "metadata": {},
   "outputs": [
    {
     "data": {
      "image/png": "[encoded data removed]",
      "text/plain": [
       "<Figure size 720x720 with 2 Axes>"
      ]
     },
     "metadata": {
      "needs_background": "light"
     },
     "output_type": "display_data"
    }
   ],
   "source": [
    "plotCorr(corr[celegans])"
   ]
  },
  {
   "cell_type": "markdown",
   "metadata": {},
   "source": [
    "Para Celegans: temos resultados similares aos obtidos na Hamsterster Friends, mas os atributos são ainda mais correlacionados, utilizaria apenas {Random Walk, K-Core} + {Betweeness ou Communicability}."
   ]
  },
  {
   "cell_type": "code",
   "execution_count": 8,
   "metadata": {},
   "outputs": [
    {
     "data": {
      "image/png": "[encoded data removed]",
      "text/plain": [
       "<Figure size 720x720 with 2 Axes>"
      ]
     },
     "metadata": {
      "needs_background": "light"
     },
     "output_type": "display_data"
    }
   ],
   "source": [
    "plotCorr(corr[airport])"
   ]
  },
  {
   "cell_type": "markdown",
   "metadata": {},
   "source": [
    "Para Airport: similar a E-Roads, mas possuindo mais atributos correlacionados que E-Roads, utilizaria, {Random Walk, Betweeness, Closeness, Page Rank}."
   ]
  },
  {
   "cell_type": "markdown",
   "metadata": {},
   "source": [
    "Podemos ver que a configuração das bases influencia na relação entre features, e plotar a correlação dos atributos pode ajudar a reduzir a quantidade de features utilizada para descrever essas bases."
   ]
  },
  {
   "cell_type": "markdown",
   "metadata": {},
   "source": [
    "### Questão 2"
   ]
  },
  {
   "cell_type": "code",
   "execution_count": 9,
   "metadata": {},
   "outputs": [
    {
     "data": {
      "text/plain": [
       "<Figure size 1800x1800 with 0 Axes>"
      ]
     },
     "metadata": {},
     "output_type": "display_data"
    },
    {
     "data": {
      "image/png": "[encoded data removed]",
      "text/plain": [
       "<Figure size 432x288 with 12 Axes>"
      ]
     },
     "metadata": {
      "needs_background": "light"
     },
     "output_type": "display_data"
    }
   ],
   "source": [
    "#Ajustar, pois as imagens estão pequenas.\n",
    "plt.figure(figsize=(25,25));\n",
    "fig, axis = plt.subplots(4,3)\n",
    "ng = 0\n",
    "metric= -1\n",
    "\n",
    "for g, title in allCities:\n",
    "    degree = degrees(g)\n",
    "    closenessC = closenessCentrality(g)\n",
    "    betweeness = betweenessCentrality(g)\n",
    "    \n",
    "    #Plotando\n",
    "    metric = (metric + 1) % 3\n",
    "    axis[ng,metric].set_title(title)\n",
    "    axis[ng,metric].set_xlabel('Grau')\n",
    "    axis[ng,metric].set_ylabel('Frequência')\n",
    "    sns.distplot(degree, hist=True, kde=False, ax=axis[ng,metric]);\n",
    "    \n",
    "    metric = (metric + 1) % 3\n",
    "    axis[ng,metric].set_title(title)\n",
    "    axis[ng,metric].set_xlabel('Closeness Centrality')\n",
    "    axis[ng,metric].set_ylabel('Frequência')\n",
    "    sns.distplot(closenessC, hist=True, kde=False, ax=axis[ng,metric]);\n",
    "    \n",
    "    metric = (metric + 1) % 3\n",
    "    axis[ng,metric].set_title(title)\n",
    "    axis[ng,metric].set_xlabel('Betweeness Centrality')\n",
    "    axis[ng,metric].set_ylabel('Frequência')\n",
    "    sns.distplot(betweeness, hist=True, kde=False, ax=axis[ng,metric]);\n",
    "    ng += 1\n"
   ]
  },
  {
   "cell_type": "markdown",
   "metadata": {},
   "source": [
    "Emilion e Walsdorf parecem mais simples de se navegar, uma vez que muitos caminhos passam pelo mesmo lugar (centro provavelmente), Besalu parece ter várias regiões centrais nesse aspecto. Já a usando closeness centrality vemos que Clovelly, Waldorf e Emilion possuem várias regiões que são próximas das outras, i.e. nós com alto cc, indicando que para aqueles que conhecem os menores caminhos da cidade, podem chegar rapidamente aos seus destinos. Besalu parece ser um pouco mais difícil nesse aspecto."
   ]
  },
  {
   "cell_type": "markdown",
   "metadata": {},
   "source": [
    "### Questão 3\n"
   ]
  },
  {
   "cell_type": "code",
   "execution_count": 10,
   "metadata": {},
   "outputs": [
    {
     "data": {
      "image/png": "[encoded data removed]",
      "text/plain": [
       "<Figure size 432x288 with 20 Axes>"
      ]
     },
     "metadata": {
      "needs_background": "light"
     },
     "output_type": "display_data"
    }
   ],
   "source": [
    "#Ajustar, pois as imagens estão pequenas.\n",
    "fig, axis = plt.subplots(5,4)\n",
    "ng = 0\n",
    "metric= -1\n",
    "\n",
    "for g, title in [(protein,'protein'), (celegans2004,'Celegans 2004'), (celegans2007,'celegans 2007'),\\\n",
    "                 (power_grid,'Power Grid'), (r_dependencies,'R Dependencies')]:\n",
    "    \n",
    "    degree = degrees(g)\n",
    "    cc = closenessCentrality(g)\n",
    "    ev = eigenVectorCentrality(g, max_iter = 10000) #1000 estava dando erro em um dos grafos.\n",
    "    pr = pageRank(g)\n",
    "    \n",
    "    #Plotando\n",
    "    metric = (metric + 1) % 4\n",
    "    axis[ng,metric].set_title(title)\n",
    "    axis[ng,metric].set_xlabel('Grau')\n",
    "    axis[ng,metric].set_ylabel('Frequência')\n",
    "    sns.distplot(degree, hist=True, kde=False, ax=axis[ng,metric]);\n",
    "    \n",
    "    metric = (metric + 1) % 4\n",
    "    axis[ng,metric].set_title(title)\n",
    "    axis[ng,metric].set_xlabel('Closeness Centrality')\n",
    "    axis[ng,metric].set_ylabel('Frequência')\n",
    "    sns.distplot(cc, hist=True, kde=False, ax=axis[ng,metric]);\n",
    "    \n",
    "    metric = (metric + 1) % 4\n",
    "    axis[ng,metric].set_title(title)\n",
    "    axis[ng,metric].set_xlabel('EigenVector Centrality')\n",
    "    axis[ng,metric].set_ylabel('Frequência')\n",
    "    sns.distplot(ev, hist=True, kde=False, ax=axis[ng,metric]);\n",
    "    \n",
    "    metric = (metric + 1) % 4\n",
    "    axis[ng,metric].set_title(title)\n",
    "    axis[ng,metric].set_xlabel('Page Rank')\n",
    "    axis[ng,metric].set_ylabel('Frequência')\n",
    "    sns.distplot(pr, hist=True, kde=False, ax=axis[ng,metric]);\n",
    "    ng += 1"
   ]
  },
  {
   "cell_type": "markdown",
   "metadata": {},
   "source": [
    "As redes biológicas e geográficas possuem apresentaram poucos hubs fortemente conectados. Já a rede de dependências em R possui muitos hubs conectados a outros hubs, demonstrado pela distribuiçãso do Page Rank."
   ]
  },
  {
   "cell_type": "markdown",
   "metadata": {},
   "source": [
    "### Questão 4"
   ]
  },
  {
   "cell_type": "code",
   "execution_count": 11,
   "metadata": {},
   "outputs": [
    {
     "ename": "KeyboardInterrupt",
     "evalue": "",
     "output_type": "error",
     "traceback": [
      "\u001b[0;31m---------------------------------------------------------------------------\u001b[0m",
      "\u001b[0;31mKeyboardInterrupt\u001b[0m                         Traceback (most recent call last)",
      "\u001b[0;32m<ipython-input-11-e78a4bfb9f19>\u001b[0m in \u001b[0;36m<module>\u001b[0;34m\u001b[0m\n\u001b[1;32m      8\u001b[0m     \u001b[0mcc\u001b[0m \u001b[0;34m=\u001b[0m \u001b[0mclosenessCentrality\u001b[0m\u001b[0;34m(\u001b[0m\u001b[0mg\u001b[0m\u001b[0;34m)\u001b[0m\u001b[0;34m\u001b[0m\u001b[0;34m\u001b[0m\u001b[0m\n\u001b[1;32m      9\u001b[0m     \u001b[0mkc\u001b[0m\u001b[0;34m=\u001b[0m \u001b[0mkCore\u001b[0m\u001b[0;34m(\u001b[0m\u001b[0mg\u001b[0m\u001b[0;34m)\u001b[0m\u001b[0;34m\u001b[0m\u001b[0;34m\u001b[0m\u001b[0m\n\u001b[0;32m---> 10\u001b[0;31m     \u001b[0mbc\u001b[0m \u001b[0;34m=\u001b[0m \u001b[0mbetweenessCentrality\u001b[0m\u001b[0;34m(\u001b[0m\u001b[0mg\u001b[0m\u001b[0;34m)\u001b[0m\u001b[0;34m\u001b[0m\u001b[0;34m\u001b[0m\u001b[0m\n\u001b[0m\u001b[1;32m     11\u001b[0m     \u001b[0mec\u001b[0m \u001b[0;34m=\u001b[0m \u001b[0meigenVectorCentrality\u001b[0m\u001b[0;34m(\u001b[0m\u001b[0mg\u001b[0m\u001b[0;34m,\u001b[0m\u001b[0;36m1000\u001b[0m\u001b[0;34m)\u001b[0m\u001b[0;34m\u001b[0m\u001b[0;34m\u001b[0m\u001b[0m\n\u001b[1;32m     12\u001b[0m     \u001b[0mpr\u001b[0m \u001b[0;34m=\u001b[0m \u001b[0mpageRank\u001b[0m\u001b[0;34m(\u001b[0m\u001b[0mg\u001b[0m\u001b[0;34m)\u001b[0m\u001b[0;34m\u001b[0m\u001b[0;34m\u001b[0m\u001b[0m\n",
      "\u001b[0;32m<ipython-input-2-98a5f16bd958>\u001b[0m in \u001b[0;36mbetweenessCentrality\u001b[0;34m(graph)\u001b[0m\n\u001b[1;32m      1\u001b[0m \u001b[0;32mdef\u001b[0m \u001b[0mbetweenessCentrality\u001b[0m\u001b[0;34m(\u001b[0m\u001b[0mgraph\u001b[0m\u001b[0;34m)\u001b[0m\u001b[0;34m:\u001b[0m\u001b[0;34m\u001b[0m\u001b[0;34m\u001b[0m\u001b[0m\n\u001b[0;32m----> 2\u001b[0;31m     \u001b[0mx\u001b[0m \u001b[0;34m=\u001b[0m \u001b[0mdict\u001b[0m\u001b[0;34m(\u001b[0m\u001b[0mnx\u001b[0m\u001b[0;34m.\u001b[0m\u001b[0mbetweenness_centrality\u001b[0m\u001b[0;34m(\u001b[0m\u001b[0mgraph\u001b[0m\u001b[0;34m)\u001b[0m\u001b[0;34m)\u001b[0m\u001b[0;34m\u001b[0m\u001b[0;34m\u001b[0m\u001b[0m\n\u001b[0m\u001b[1;32m      3\u001b[0m     \u001b[0mx\u001b[0m \u001b[0;34m=\u001b[0m \u001b[0mpd\u001b[0m\u001b[0;34m.\u001b[0m\u001b[0mSeries\u001b[0m\u001b[0;34m(\u001b[0m\u001b[0mx\u001b[0m\u001b[0;34m)\u001b[0m\u001b[0;34m\u001b[0m\u001b[0;34m\u001b[0m\u001b[0m\n\u001b[1;32m      4\u001b[0m     \u001b[0;32mreturn\u001b[0m \u001b[0mx\u001b[0m\u001b[0;34m\u001b[0m\u001b[0;34m\u001b[0m\u001b[0m\n\u001b[1;32m      5\u001b[0m \u001b[0;34m\u001b[0m\u001b[0m\n",
      "\u001b[0;32m</home/gui/.local/lib/python3.7/site-packages/decorator.py:decorator-gen-229>\u001b[0m in \u001b[0;36mbetweenness_centrality\u001b[0;34m(G, k, normalized, weight, endpoints, seed)\u001b[0m\n",
      "\u001b[0;32m~/.local/lib/python3.7/site-packages/networkx/utils/decorators.py\u001b[0m in \u001b[0;36m_random_state\u001b[0;34m(func, *args, **kwargs)\u001b[0m\n\u001b[1;32m    462\u001b[0m         \u001b[0mnew_args\u001b[0m \u001b[0;34m=\u001b[0m \u001b[0mlist\u001b[0m\u001b[0;34m(\u001b[0m\u001b[0margs\u001b[0m\u001b[0;34m)\u001b[0m\u001b[0;34m\u001b[0m\u001b[0;34m\u001b[0m\u001b[0m\n\u001b[1;32m    463\u001b[0m         \u001b[0mnew_args\u001b[0m\u001b[0;34m[\u001b[0m\u001b[0mrandom_state_index\u001b[0m\u001b[0;34m]\u001b[0m \u001b[0;34m=\u001b[0m \u001b[0mrandom_state\u001b[0m\u001b[0;34m\u001b[0m\u001b[0;34m\u001b[0m\u001b[0m\n\u001b[0;32m--> 464\u001b[0;31m         \u001b[0;32mreturn\u001b[0m \u001b[0mfunc\u001b[0m\u001b[0;34m(\u001b[0m\u001b[0;34m*\u001b[0m\u001b[0mnew_args\u001b[0m\u001b[0;34m,\u001b[0m \u001b[0;34m**\u001b[0m\u001b[0mkwargs\u001b[0m\u001b[0;34m)\u001b[0m\u001b[0;34m\u001b[0m\u001b[0;34m\u001b[0m\u001b[0m\n\u001b[0m\u001b[1;32m    465\u001b[0m     \u001b[0;32mreturn\u001b[0m \u001b[0m_random_state\u001b[0m\u001b[0;34m\u001b[0m\u001b[0;34m\u001b[0m\u001b[0m\n",
      "\u001b[0;32m~/.local/lib/python3.7/site-packages/networkx/algorithms/centrality/betweenness.py\u001b[0m in \u001b[0;36mbetweenness_centrality\u001b[0;34m(G, k, normalized, weight, endpoints, seed)\u001b[0m\n\u001b[1;32m    117\u001b[0m         \u001b[0;31m# single source shortest paths\u001b[0m\u001b[0;34m\u001b[0m\u001b[0;34m\u001b[0m\u001b[0;34m\u001b[0m\u001b[0m\n\u001b[1;32m    118\u001b[0m         \u001b[0;32mif\u001b[0m \u001b[0mweight\u001b[0m \u001b[0;32mis\u001b[0m \u001b[0;32mNone\u001b[0m\u001b[0;34m:\u001b[0m  \u001b[0;31m# use BFS\u001b[0m\u001b[0;34m\u001b[0m\u001b[0;34m\u001b[0m\u001b[0m\n\u001b[0;32m--> 119\u001b[0;31m             \u001b[0mS\u001b[0m\u001b[0;34m,\u001b[0m \u001b[0mP\u001b[0m\u001b[0;34m,\u001b[0m \u001b[0msigma\u001b[0m \u001b[0;34m=\u001b[0m \u001b[0m_single_source_shortest_path_basic\u001b[0m\u001b[0;34m(\u001b[0m\u001b[0mG\u001b[0m\u001b[0;34m,\u001b[0m \u001b[0ms\u001b[0m\u001b[0;34m)\u001b[0m\u001b[0;34m\u001b[0m\u001b[0;34m\u001b[0m\u001b[0m\n\u001b[0m\u001b[1;32m    120\u001b[0m         \u001b[0;32melse\u001b[0m\u001b[0;34m:\u001b[0m  \u001b[0;31m# use Dijkstra's algorithm\u001b[0m\u001b[0;34m\u001b[0m\u001b[0;34m\u001b[0m\u001b[0m\n\u001b[1;32m    121\u001b[0m             \u001b[0mS\u001b[0m\u001b[0;34m,\u001b[0m \u001b[0mP\u001b[0m\u001b[0;34m,\u001b[0m \u001b[0msigma\u001b[0m \u001b[0;34m=\u001b[0m \u001b[0m_single_source_dijkstra_path_basic\u001b[0m\u001b[0;34m(\u001b[0m\u001b[0mG\u001b[0m\u001b[0;34m,\u001b[0m \u001b[0ms\u001b[0m\u001b[0;34m,\u001b[0m \u001b[0mweight\u001b[0m\u001b[0;34m)\u001b[0m\u001b[0;34m\u001b[0m\u001b[0;34m\u001b[0m\u001b[0m\n",
      "\u001b[0;32m~/.local/lib/python3.7/site-packages/networkx/algorithms/centrality/betweenness.py\u001b[0m in \u001b[0;36m_single_source_shortest_path_basic\u001b[0;34m(G, s)\u001b[0m\n\u001b[1;32m    245\u001b[0m         \u001b[0mDv\u001b[0m \u001b[0;34m=\u001b[0m \u001b[0mD\u001b[0m\u001b[0;34m[\u001b[0m\u001b[0mv\u001b[0m\u001b[0;34m]\u001b[0m\u001b[0;34m\u001b[0m\u001b[0;34m\u001b[0m\u001b[0m\n\u001b[1;32m    246\u001b[0m         \u001b[0msigmav\u001b[0m \u001b[0;34m=\u001b[0m \u001b[0msigma\u001b[0m\u001b[0;34m[\u001b[0m\u001b[0mv\u001b[0m\u001b[0;34m]\u001b[0m\u001b[0;34m\u001b[0m\u001b[0;34m\u001b[0m\u001b[0m\n\u001b[0;32m--> 247\u001b[0;31m         \u001b[0;32mfor\u001b[0m \u001b[0mw\u001b[0m \u001b[0;32min\u001b[0m \u001b[0mG\u001b[0m\u001b[0;34m[\u001b[0m\u001b[0mv\u001b[0m\u001b[0;34m]\u001b[0m\u001b[0;34m:\u001b[0m\u001b[0;34m\u001b[0m\u001b[0;34m\u001b[0m\u001b[0m\n\u001b[0m\u001b[1;32m    248\u001b[0m             \u001b[0;32mif\u001b[0m \u001b[0mw\u001b[0m \u001b[0;32mnot\u001b[0m \u001b[0;32min\u001b[0m \u001b[0mD\u001b[0m\u001b[0;34m:\u001b[0m\u001b[0;34m\u001b[0m\u001b[0;34m\u001b[0m\u001b[0m\n\u001b[1;32m    249\u001b[0m                 \u001b[0mQ\u001b[0m\u001b[0;34m.\u001b[0m\u001b[0mappend\u001b[0m\u001b[0;34m(\u001b[0m\u001b[0mw\u001b[0m\u001b[0;34m)\u001b[0m\u001b[0;34m\u001b[0m\u001b[0;34m\u001b[0m\u001b[0m\n",
      "\u001b[0;32m~/.local/lib/python3.7/site-packages/networkx/classes/graph.py\u001b[0m in \u001b[0;36m__getitem__\u001b[0;34m(self, n)\u001b[0m\n\u001b[1;32m    470\u001b[0m         \u001b[0mAtlasView\u001b[0m\u001b[0;34m(\u001b[0m\u001b[0;34m{\u001b[0m\u001b[0;36m1\u001b[0m\u001b[0;34m:\u001b[0m \u001b[0;34m{\u001b[0m\u001b[0;34m}\u001b[0m\u001b[0;34m}\u001b[0m\u001b[0;34m)\u001b[0m\u001b[0;34m\u001b[0m\u001b[0;34m\u001b[0m\u001b[0m\n\u001b[1;32m    471\u001b[0m         \"\"\"\n\u001b[0;32m--> 472\u001b[0;31m         \u001b[0;32mreturn\u001b[0m \u001b[0mself\u001b[0m\u001b[0;34m.\u001b[0m\u001b[0madj\u001b[0m\u001b[0;34m[\u001b[0m\u001b[0mn\u001b[0m\u001b[0;34m]\u001b[0m\u001b[0;34m\u001b[0m\u001b[0;34m\u001b[0m\u001b[0m\n\u001b[0m\u001b[1;32m    473\u001b[0m \u001b[0;34m\u001b[0m\u001b[0m\n\u001b[1;32m    474\u001b[0m     \u001b[0;32mdef\u001b[0m \u001b[0madd_node\u001b[0m\u001b[0;34m(\u001b[0m\u001b[0mself\u001b[0m\u001b[0;34m,\u001b[0m \u001b[0mnode_for_adding\u001b[0m\u001b[0;34m,\u001b[0m \u001b[0;34m**\u001b[0m\u001b[0mattr\u001b[0m\u001b[0;34m)\u001b[0m\u001b[0;34m:\u001b[0m\u001b[0;34m\u001b[0m\u001b[0;34m\u001b[0m\u001b[0m\n",
      "\u001b[0;32m~/.local/lib/python3.7/site-packages/networkx/classes/coreviews.py\u001b[0m in \u001b[0;36m__getitem__\u001b[0;34m(self, name)\u001b[0m\n\u001b[1;32m     79\u001b[0m \u001b[0;34m\u001b[0m\u001b[0m\n\u001b[1;32m     80\u001b[0m     \u001b[0;32mdef\u001b[0m \u001b[0m__getitem__\u001b[0m\u001b[0;34m(\u001b[0m\u001b[0mself\u001b[0m\u001b[0;34m,\u001b[0m \u001b[0mname\u001b[0m\u001b[0;34m)\u001b[0m\u001b[0;34m:\u001b[0m\u001b[0;34m\u001b[0m\u001b[0;34m\u001b[0m\u001b[0m\n\u001b[0;32m---> 81\u001b[0;31m         \u001b[0;32mreturn\u001b[0m \u001b[0mAtlasView\u001b[0m\u001b[0;34m(\u001b[0m\u001b[0mself\u001b[0m\u001b[0;34m.\u001b[0m\u001b[0m_atlas\u001b[0m\u001b[0;34m[\u001b[0m\u001b[0mname\u001b[0m\u001b[0;34m]\u001b[0m\u001b[0;34m)\u001b[0m\u001b[0;34m\u001b[0m\u001b[0;34m\u001b[0m\u001b[0m\n\u001b[0m\u001b[1;32m     82\u001b[0m \u001b[0;34m\u001b[0m\u001b[0m\n\u001b[1;32m     83\u001b[0m     \u001b[0;32mdef\u001b[0m \u001b[0mcopy\u001b[0m\u001b[0;34m(\u001b[0m\u001b[0mself\u001b[0m\u001b[0;34m)\u001b[0m\u001b[0;34m:\u001b[0m\u001b[0;34m\u001b[0m\u001b[0;34m\u001b[0m\u001b[0m\n",
      "\u001b[0;31mKeyboardInterrupt\u001b[0m: "
     ]
    }
   ],
   "source": [
    "graphData = []\n",
    "graph_names = ['protein','Celegans 2004','celegans 2007','Power Grid','R Dependencies']\n",
    "\n",
    "for g in [protein,celegans2004,celegans2007,power_grid,r_dependencies]:\n",
    "\n",
    "    description = []\n",
    "    d = degrees(g)\n",
    "    cc = closenessCentrality(g)\n",
    "    kc= kCore(g)\n",
    "    bc = betweenessCentrality(g)\n",
    "    ec = eigenVectorCentrality(g,1000)\n",
    "    pr = pageRank(g)\n",
    "    rw = random_walk(g,100)\n",
    "    com = communicabilityCentrality(g)\n",
    "\n",
    "    for x in [d,kc,cc,bc,ec,pr,rw,com]:\n",
    "        description.append(np.average(x))\n",
    "        description.append(np.std(x))\n",
    "        description.append(moment(x,2))\n",
    "        description.append(shannonEntropy(x))\n",
    "\n",
    "    graphData.append(description)\n"
   ]
  },
  {
   "cell_type": "code",
   "execution_count": null,
   "metadata": {},
   "outputs": [],
   "source": [
    "#Standarizing\n",
    "from sklearn import preprocessing\n",
    "# Get column names first\n",
    "dataPD = pd.DataFrame(graphData)\n",
    "\n",
    "names = dataPD.columns\n",
    "# Create the Scaler object\n",
    "scaler = preprocessing.StandardScaler()\n",
    "# Fit your data on the scaler object\n",
    "scaled_df = scaler.fit_transform(dataPD)\n",
    "scaled_graph_data = pd.DataFrame(scaled_df,index= graph_names, columns=names)\n",
    "\n",
    "#PCA\n",
    "pca = PCA(n_components=2)\n",
    "principalComponents = pca.fit_transform(scaled_graph_data)\n",
    "transformed = pd.DataFrame(data = principalComponents, columns = ['PC 1', 'PC 2'])\n",
    "\n",
    "plt.figure(figsize=(7,5));\n",
    "p1 = sns.scatterplot(x='PC 1',y='PC 2', data=transformed, legend=False);\n",
    "\n",
    "for line in range(0,len(graphData)):\n",
    "     p1.text(transformed['PC 1'][line], transformed['PC 2'][line], graph_names[line],\n",
    "     horizontalalignment='left', size='medium', color='black', weight='semibold')\n",
    "\n",
    "plt.title('PCA Trasformation')\n",
    "plt.xlabel('PC1')\n",
    "plt.ylabel('PC2')"
   ]
  },
  {
   "cell_type": "markdown",
   "metadata": {},
   "source": [
    "Como esperado as redes Celegans são muito similares, já as outras redes, cada uma possui um domínio diferente:\n",
    "\n",
    "PowerGrid: geográfica, grau segue distribuição de Poisson;\n",
    "\n",
    "Proteinas: interação de proteínas, lei de Potência e hubs conectados a pontas;\n",
    "\n",
    "R Dependencies: citação acadêmica, lei de potência, Hubs conectados a hubs;"
   ]
  },
  {
   "cell_type": "markdown",
   "metadata": {},
   "source": [
    "### Questão 5\n"
   ]
  },
  {
   "cell_type": "code",
   "execution_count": null,
   "metadata": {},
   "outputs": [],
   "source": [
    "fig, axis = plt.subplots(1,4)\n",
    "ng = -1\n",
    "correlations = \"\"\n",
    "for g, title in [(e_road,\"E-Road\"), (celegans,\"Celegans Neural\"), (airport,\"USA Airport\"),(protein,'Human Protein')]:\n",
    "    x, y = knnDegree(g)\n",
    "    corr = x.corr(y)\n",
    "    correlations = correlations + \"\\n\"+ title + \": \" + str(round(corr,4))\n",
    "    ng = (ng + 1)\n",
    "    axis[ng].set_title(title)\n",
    "    axis[ng].set_xlabel('Grau')\n",
    "    axis[ng].set_ylabel('Vizinhos Médios Por Grau')\n",
    "    sns.regplot(x,y, ax=axis[ng]);\n",
    "    \n",
    "print(correlations)"
   ]
  },
  {
   "cell_type": "markdown",
   "metadata": {},
   "source": [
    "Nas redes Airport e Human Protein, conforme o grau aumenta, a quantidade média de vizinhos diminui, indicando que hubs estão conectados a nós pouco conectados, associado a redes dissortativas. Já na Celegans ocorre o inverso. Por fim, na rede E-Roads, apresenta uma rede sem tendência, pois a quantidade de vizinhos de um nó não prevê o grau da vizinhança.\n",
    "\n",
    "Usando correlação de Pearson podemos ver o quanto o grau de um nó prevê o grau médio de seus vizinhos, além de ser uma medida limitada (-1 a 1), portanto é uma ótima maneira de medir quantitativamente a assortatividade de uma rede.\n",
    "As redes de Airport e Human Protein, possuem correlação negativa e longe de 0 indicando redes dissortativas, no entanto para a rede de proteínas a relação de que Hubs conectados a nós pouco conectados é mais frequente que na Airport, trazendo um valor absoluto de correlação maior. A rede Celegans possui certa assortatividade mas se aproxima de uma rede sem tendência e a rede E-Roads possui uma correlação muito próxim,a de 0 indicando uma rede sem tendência.\n",
    "\n",
    "É vválido notar que a correlação de Pearson captura apenas relações lineares entre os atributos, mas uma observação rápida nos gráficos já indica a ausência de outras relações (e.g. de potência)."
   ]
  },
  {
   "cell_type": "markdown",
   "metadata": {},
   "source": [
    "### Questão 6"
   ]
  },
  {
   "cell_type": "markdown",
   "metadata": {},
   "source": [
    "Abaixo, o código gera uma rede de benchmark e exibe as comunidades verdadeiras."
   ]
  },
  {
   "cell_type": "code",
   "execution_count": null,
   "metadata": {},
   "outputs": [],
   "source": [
    "fig, axis = plt.subplots(1,2, figsize=(10,5))\n",
    "N = 128\n",
    "tau1 = 3\n",
    "tau2 = 1.5\n",
    "mu = 0.04\n",
    "k =16\n",
    "minc = 16\n",
    "maxc = 16\n",
    "G = LFR_benchmark_graph(n = N, tau1 = tau1, tau2 = tau2, mu = mu, min_degree = k, \n",
    "                        max_degree = k, min_community=minc, max_community = maxc, seed = 10)\n",
    "pos=nx.spring_layout(G)\n",
    "\n",
    "nx.draw(G, with_labels = False, nodecolor='r', edge_color='b', \n",
    "        node_size=50, font_size=16,  width=1,pos = pos, ax=axis[0]);\n",
    "axis[0].set_title('Grafo de benchmark gerado');\n",
    "\n",
    "\n",
    "def plot_true_comms_benchmark(G, true_comms, ax=-1):\n",
    "    colors = list(matplotlib.colors.cnames.values())\n",
    "    aux = 35\n",
    "\n",
    "    for c in true_comms:\n",
    "        nx.draw(G.subgraph(c), pos=pos, node_color = colors[aux], with_labels = False, \n",
    "            node_size=50, ax=ax)\n",
    "        aux = aux+1\n",
    "        nx.draw_networkx_edges(G, pos, ax=ax)\n",
    "        \n",
    "    ax.set_title('Comunidades esperadas')\n",
    "true_comms = {frozenset(G.nodes[v]['community']) for v in G}\n",
    "plot_true_comms_benchmark(G, true_comms, axis[1])"
   ]
  },
  {
   "cell_type": "markdown",
   "metadata": {},
   "source": [
    "Executamos, então, os algoritmos que realizam a detecção de comunidades:"
   ]
  },
  {
   "cell_type": "code",
   "execution_count": null,
   "metadata": {},
   "outputs": [],
   "source": [
    "def select_givan_newman_comms(gn_comm, k=3):\n",
    "    for i in range(k):\n",
    "        comm = next(gn_comm)\n",
    "    sorted_comms = sorted(map(sorted, comm))\n",
    "    return sorted_comms\n",
    "    \n",
    "def plot_givan_newman(G, pos, gn_comms, ax=-1):   \n",
    "    colors = list(matplotlib.colors.cnames.values())\n",
    "    aux = 50\n",
    "    \n",
    "    for comm in gn_comms:\n",
    "        nx.draw(G.subgraph(comm), pos=pos, node_color = colors[aux], with_labels = False, \n",
    "                node_size=50, ax=ax)\n",
    "        aux = aux + 1\n",
    "    nx.draw_networkx_edges(G, pos, ax=ax)\n",
    "    ax.set_title('Método de Givan Newman')\n",
    "\n",
    "#Louvain\n",
    "def plot_louvain(G, pos, louvain_comms, ax=-1):\n",
    "    colors = list(matplotlib.colors.cnames.values())\n",
    "\n",
    "    size = float(len(set(louvain_comms.values())))\n",
    "    count = 0.\n",
    "    for com in set(louvain_comms.values()) :\n",
    "        count = count + 1.\n",
    "        list_nodes = [nodes for nodes in louvain_comms.keys() if louvain_comms[nodes] == com]\n",
    "        nx.draw_networkx_nodes(G, pos, list_nodes, node_size = 50, \n",
    "                               node_color = colors[int(count)], ax=ax)\n",
    "        \n",
    "    nx.draw_networkx_edges(G, pos, alpha=0.5, ax=ax)\n",
    "    ax.set_title('Método de Louvain')\n",
    "    ax.axis('off')\n",
    "\n",
    "def plot_label_prop(G, pos, lp_comms, ax=-1):\n",
    "    colors = list(matplotlib.colors.cnames.values())\n",
    "    \n",
    "    aux = 20\n",
    "    for comm in lp_comms:\n",
    "        nx.draw(G.subgraph(comm), pos=pos, node_size = 50, node_color = colors[aux], ax=ax)\n",
    "        aux = aux+1\n",
    "        \n",
    "    nx.draw_networkx_edges(G, pos, alpha=0.5, ax=ax)\n",
    "    ax.set_title('Método de label propagation')\n",
    "\n",
    "def plot_fast_greedy(G, pos, fg_comms, ax=-1):\n",
    "    colors = list(matplotlib.colors.cnames.values())\n",
    "    aux = 20\n",
    "    \n",
    "    for c in fg_comms:\n",
    "        nx.draw(G.subgraph(c), pos=pos, node_color = colors[aux], with_labels = False, \n",
    "        node_size=50, ax=ax)\n",
    "        aux = aux+1\n",
    "        \n",
    "    nx.draw_networkx_edges(G, pos, ax=ax)    \n",
    "    ax.set_title('Método Fast Greedy')\n",
    "\n",
    "def detect_comms(G):\n",
    "    true_comms = {frozenset(G.nodes[v]['community']) for v in G}\n",
    "    gn_comms = select_givan_newman_comms(community.girvan_newman(G), k=3)\n",
    "    lv_comms = community_louvain.best_partition(G)\n",
    "    lp_comms = list(community.label_propagation_communities(G))\n",
    "    fg_comms = greedy_modularity_communities(G)\n",
    "    \n",
    "    return true_comms, gn_comms, lv_comms, lp_comms, fg_comms\n",
    "\n",
    "fig, axis = plt.subplots(1,4, figsize=(16,8))\n",
    "\n",
    "true_comms, gn_comms, lv_comms, lp_comms, fg_comms = detect_comms(G)\n",
    "g_comms = [true_comms, gn_comms, lv_comms, lp_comms, fg_comms]\n",
    "\n",
    "plot_givan_newman(G, pos, gn_comms, ax=axis[0]);\n",
    "plot_louvain(G, pos, lv_comms, ax=axis[1]);\n",
    "plot_label_prop(G, pos, lp_comms, ax=axis[2]);\n",
    "plot_fast_greedy(G, pos, fg_comms, ax=axis[3]);"
   ]
  },
  {
   "cell_type": "markdown",
   "metadata": {},
   "source": [
    "Por fim, organizamos as comunidades na forma de uma tabela para cálculo do NMI, com o qual será feita a comparação dos diferentes métodos:"
   ]
  },
  {
   "cell_type": "code",
   "execution_count": null,
   "metadata": {},
   "outputs": [],
   "source": [
    "def comms_to_dataframe(true_comms, gn_comms, lv_comms, lp_comms, fg_comms):  \n",
    "    df = pd.DataFrame(columns=['Target','Girvan-Newmann','Louvain','Label Propagation', 'Fast Greedy'])\n",
    "\n",
    "    for node in G.nodes():\n",
    "        df = df.append(pd.Series(name=node));\n",
    "\n",
    "    for index, comm in enumerate(true_comms):\n",
    "        for node in comm:\n",
    "            df['Target'].iloc[node] = index;\n",
    "\n",
    "    for index, comm in enumerate(gn_comms):\n",
    "        for node in comm:\n",
    "            df['Girvan-Newmann'].iloc[node] = index;\n",
    "\n",
    "    for node, comm in lv_comms.items():\n",
    "        df['Louvain'].iloc[node] = comm;\n",
    "\n",
    "    for index, comm in enumerate(lp_comms):\n",
    "        for node in comm:\n",
    "            df['Label Propagation'].iloc[node] = index;\n",
    "            \n",
    "    for index, comm in enumerate(fg_comms):\n",
    "        for node in comm:\n",
    "            df['Fast Greedy'].iloc[node] = index;\n",
    "    return df\n",
    "\n",
    "df = comms_to_dataframe(*g_comms)\n",
    "print(df)"
   ]
  },
  {
   "cell_type": "code",
   "execution_count": null,
   "metadata": {},
   "outputs": [],
   "source": [
    "print('Girvan-Newmann: ', nmi(df['Target'], df['Girvan-Newmann']));\n",
    "print('Louvain', nmi(df['Target'], df['Louvain']));\n",
    "print('Label Propagation', nmi(df['Target'], df['Label Propagation']));\n",
    "print('Fast Greedy', nmi(df['Target'], df['Fast Greedy']));\n",
    "\n",
    "def calc_nmi(g_comms):\n",
    "    nmi_df = pd.DataFrame(columns=['Girvan-Newmann','Louvain','Label Propagation','Fast Greedy'])\n",
    "    for index, comms in enumerate(g_comms):\n",
    "        nmi_df = nmi_df.append(pd.Series(name=0))\n",
    "        nmi_df['Girvan-Newmann'].iloc[0] = nmi(df['Target'], df['Girvan-Newmann'])\n",
    "        nmi_df['Louvain'].iloc[0] = nmi(df['Target'], df['Louvain'])\n",
    "        nmi_df['Label Propagation'].iloc[0] = nmi(df['Target'], df['Label Propagation'])\n",
    "        nmi_df['Fast Greedy'].iloc[0] = nmi(df['Target'], df['Fast Greedy'])\n",
    "        \n",
    "    return nmi_df\n",
    "\n",
    "nmi_df = calc_nmi([g_comms])\n",
    "print(nmi_df)"
   ]
  },
  {
   "cell_type": "markdown",
   "metadata": {},
   "source": [
    "Os métodos de Louvain e Fast Greedy alcançaram NMI igual a 1, indicando a correta detecção de todas as comunidades. O método de Girvan-Newman atingiu o menor NMI entre todos os algoritmos e, portanto, maior taxa de erros. Isto pode ser confirmado por simples inspeção visual das comunidades encontradas, dado que 4 agrupamentos diferentes na separação original foram classificados como se pertencessem a uma única comunidade. O label propagation atingiu valor intermediário de NMI: é possível verificar pelo menos 2 comunidades que foram agrupadas como se fossem uma só pelo algoritmo."
   ]
  },
  {
   "cell_type": "markdown",
   "metadata": {},
   "source": [
    "## Questão 7"
   ]
  },
  {
   "cell_type": "markdown",
   "metadata": {},
   "source": [
    "A seguir, a rede Zachary Karate Club será carregada através do igraph, para que então os métodos de detecção de comunidades sejam aplicados e tenham seus resultados comparados."
   ]
  },
  {
   "cell_type": "markdown",
   "metadata": {},
   "source": [
    "### Rede original"
   ]
  },
  {
   "cell_type": "code",
   "execution_count": null,
   "metadata": {},
   "outputs": [],
   "source": [
    "karate = nx.karate_club_graph()\n",
    "nx.write_gml(karate, 'ex7')\n",
    "ig_karate = igraph.Graph.Read('ex7', 'gml')\n",
    "ig_karate.vs['label'] = [None for v in ig_karate.vs]\n",
    "ig_layout = ig_karate.layout('fr')\n",
    "\n",
    "color_map = {'Mr. Hi':'red', 'Officer':'blue'}\n",
    "node_colors = [color_map[v] for v in ig_karate.vs['club']]\n",
    "\n",
    "igraph.plot(ig_karate, layout=ig_layout, vertex_color=node_colors, bbox=[0, 0, 300, 300])"
   ]
  },
  {
   "cell_type": "markdown",
   "metadata": {},
   "source": [
    "### Método de Girvan-Newmann"
   ]
  },
  {
   "cell_type": "code",
   "execution_count": null,
   "metadata": {},
   "outputs": [],
   "source": [
    "igraph.plot(ig_karate.community_edge_betweenness().as_clustering(), layout=ig_layout, bbox=[0,0,300,300])"
   ]
  },
  {
   "cell_type": "markdown",
   "metadata": {},
   "source": [
    "O método de Girvan-newman cometeu uma grande quantidade de erros. Nota-se um nó colocado sozinho na comunidade rosa, além das comunidades verde e azul que não existiam no agrupamento original."
   ]
  },
  {
   "cell_type": "markdown",
   "metadata": {},
   "source": [
    "### Método de Louvain"
   ]
  },
  {
   "cell_type": "code",
   "execution_count": null,
   "metadata": {},
   "outputs": [],
   "source": [
    "igraph.plot(ig_karate.community_multilevel(), layout=ig_layout, bbox=[0,0,300,300])"
   ]
  },
  {
   "cell_type": "markdown",
   "metadata": {},
   "source": [
    "Os agrupamentos encontrados pelo método de Louvain parecem pouco melhores do que os do método de Girvan-Newman, sobretudo porque nenhum nó terminou sozinho em uma comunidade. Ainda assim, há 4 comunidades enquanto eram esperadas duas."
   ]
  },
  {
   "cell_type": "markdown",
   "metadata": {},
   "source": [
    "### Método de label propagation"
   ]
  },
  {
   "cell_type": "code",
   "execution_count": null,
   "metadata": {},
   "outputs": [],
   "source": [
    "igraph.plot(ig_karate.community_label_propagation(), layout=ig_layout, bbox=[0,0,300,300])"
   ]
  },
  {
   "cell_type": "markdown",
   "metadata": {},
   "source": [
    "O algoritmo de label propagation encontrou menos comunidades do que os anteriores, tendo, neste aspecto, atingido resultados mais próximos das comunidades presentes na rede original. Não há nós sozinhos. "
   ]
  },
  {
   "cell_type": "markdown",
   "metadata": {},
   "source": [
    "### Método Fast Greedy"
   ]
  },
  {
   "cell_type": "code",
   "execution_count": null,
   "metadata": {},
   "outputs": [],
   "source": [
    "igraph.plot(ig_karate.community_fastgreedy().as_clustering(), layout=ig_layout, bbox=[0,0,300,300])"
   ]
  },
  {
   "cell_type": "markdown",
   "metadata": {},
   "source": [
    "O fast greedy encontrou 3 comunidades. Algumas destas comunidades, ainda assim, formavam uma única comunidade na rede original. Mais erros foram cometidos quando comparado com o label propagation. Além disso, há nós errados na fronteira entre as comunidades verde e azul."
   ]
  },
  {
   "cell_type": "markdown",
   "metadata": {},
   "source": [
    "### Método Netcarto (Simulated Annealing)"
   ]
  },
  {
   "cell_type": "code",
   "execution_count": null,
   "metadata": {},
   "outputs": [],
   "source": [
    "igraph.plot(ig_karate.community_spinglass(), layout=ig_layout, bbox=[0,0,300,300])"
   ]
  },
  {
   "cell_type": "markdown",
   "metadata": {},
   "source": [
    "4 Comunidades foram encontradas pelo Netcarto, aproximando seus resultados aos do método de Girvan-Newman, exceto que não há nós sozinhos."
   ]
  },
  {
   "cell_type": "markdown",
   "metadata": {},
   "source": [
    "### Método Infomap"
   ]
  },
  {
   "cell_type": "code",
   "execution_count": null,
   "metadata": {},
   "outputs": [],
   "source": [
    "igraph.plot(ig_karate.community_infomap(), layout=ig_layout, bbox=[0,0,300,300])"
   ]
  },
  {
   "cell_type": "markdown",
   "metadata": {},
   "source": [
    "O infomap detectou 3 comunidades, aproximando-o do fast greedy. As comunidades verde e azul pertenciam a uma única comunidade na rede original."
   ]
  },
  {
   "cell_type": "markdown",
   "metadata": {},
   "source": [
    "## Exercício 8"
   ]
  },
  {
   "cell_type": "markdown",
   "metadata": {},
   "source": [
    "O Igraph tem a implementação dos algoritmos de detecção de comunidades mas, até onde conseguimos encontrar, não tem métodos para gerar as redes de benchmark. Em razão disso, o código abaixo gera as redes do networkx e exporta para um arquivo GML que será carregado no Igraph.\n",
    "\n",
    "(Obs: A rede foi reduzida dos 1000 nós que eram solicitados no enunciado em razão do oneroso tempo de processamento)"
   ]
  },
  {
   "cell_type": "code",
   "execution_count": null,
   "metadata": {},
   "outputs": [],
   "source": [
    "N = 400\n",
    "tau1 = 3\n",
    "tau2 = 1.5\n",
    "mu = 0.04\n",
    "k =16\n",
    "minc = 20\n",
    "maxc = 50\n",
    "mu_values = [round(i,1) for i in np.arange(0.1, 1, 0.1)]\n",
    "g_comms = []\n",
    "for index, cur_mu in enumerate(mu_values):\n",
    "    G = LFR_benchmark_graph(n = N, tau1 = tau1, tau2 = tau2, mu = cur_mu, min_degree = k, \n",
    "                    max_degree = k, min_community=minc, max_community = maxc, seed = 10)\n",
    "    true_comms = list({frozenset(G.nodes[v]['community']) for v in G})\n",
    "    #print(G.nodes[0])\n",
    "    for node in G.nodes():\n",
    "        G.nodes[node]['community'] = true_comms.index(G.nodes[node]['community'])\n",
    "    nx.write_gml(G, 'datasets/ex8_{}'.format(index))\n",
    "    print('Gerou grafo p/ mu={}'.format(cur_mu))"
   ]
  },
  {
   "cell_type": "markdown",
   "metadata": {},
   "source": [
    "Gera-se, então, um dataframe com o valor de NMI para cada algoritmo em função do valor de mu (valor médio de conexões intracomunidades)."
   ]
  },
  {
   "cell_type": "code",
   "execution_count": null,
   "metadata": {},
   "outputs": [],
   "source": [
    "nmi = pd.DataFrame(columns=['mu','Girvan-Newman','Louvain','Label propagation','Fast Greedy','Netcarto','Infomap'])\n",
    "nmi.set_index('mu')\n",
    "\n",
    "for index, cur_mu in enumerate(mu_values):\n",
    "    ig = igraph.Graph.Read('datasets/ex8_{}'.format(index), format='gml')\n",
    "    ig = ig.clusters().giant()\n",
    "    true_comm = igraph.VertexClustering.FromAttribute(ig, 'community')\n",
    "    \n",
    "    gv = ig.community_edge_betweenness().as_clustering()   \n",
    "    lv = ig.community_multilevel()\n",
    "    lp = ig.community_label_propagation()\n",
    "    fg = ig.community_fastgreedy().as_clustering()\n",
    "    nc = ig.community_spinglass()\n",
    "    im = ig.community_infomap()\n",
    "\n",
    "    gv_nmi = igraph.clustering.compare_communities(true_comm, gv, method='nmi')\n",
    "    lv_nmi = igraph.clustering.compare_communities(true_comm, lv, method='nmi')\n",
    "    lp_nmi = igraph.clustering.compare_communities(true_comm, lp, method='nmi')\n",
    "    fg_nmi = igraph.clustering.compare_communities(true_comm, fg, method='nmi')\n",
    "    nc_nmi = igraph.clustering.compare_communities(true_comm, nc, method='nmi')\n",
    "    im_nmi = igraph.clustering.compare_communities(true_comm, im, method='nmi')\n",
    "    nmi.loc[index] = [cur_mu, gv_nmi, lv_nmi, lp_nmi, fg_nmi, nc_nmi, im_nmi]\n",
    "    print('Calculou os nmis para mu={}'.format(cur_mu))\n",
    "nmi"
   ]
  },
  {
   "cell_type": "code",
   "execution_count": null,
   "metadata": {},
   "outputs": [],
   "source": [
    "fig, axis = plt.subplots(1, 1, figsize=(6,4))\n",
    "sns.set_style('dark')\n",
    "sns.lineplot(x=nmi['mu'], y=nmi['Girvan-Newman'], label='Girvan-newmann', marker='*')\n",
    "sns.lineplot(x=nmi['mu'], y=nmi['Louvain'], label='Louvain', marker='s')\n",
    "sns.lineplot(x=nmi['mu'], y=nmi['Label propagation'], label='Label Propagation', marker='D')\n",
    "\n",
    "sns.lineplot(x=nmi['mu'], y=nmi['Fast Greedy'], label='Fast Greedy', marker='P')\n",
    "sns.lineplot(x=nmi['mu'], y=nmi['Netcarto'], label='Netcarto', marker='^')\n",
    "sns.lineplot(x=nmi['mu'], y=nmi['Infomap'], label='Infomap', marker='o')\n",
    "\n",
    "axis.set_title('NMI p/ métodos de detecção de comunidades\\nN=200, mu variável')\n",
    "axis.set_ylabel('NMI')\n",
    "axis.set_xlabel('Mu')\n",
    "axis.legend(loc='upper right');"
   ]
  },
  {
   "cell_type": "markdown",
   "metadata": {},
   "source": [
    "O label propagation apresentou o declínio mais rápido entre todos os algoritmos. Até certo valor de mu, os métodos de Louvain e Netcarto apresentaram o melhor desempenho e estavam quase pareados; após mu=0.4, declinaram rapidamente, com o Netcarto atingindo resultados levemente superiores. O método de Girvan-Newman foi capaz de manter um desempenho consistente em valores mais altos de mu, a despeito do menor desempenho do algoritmo em relação aos demais algoritmos em valores baixos de mu."
   ]
  },
  {
   "cell_type": "markdown",
   "metadata": {},
   "source": [
    "## Exercício 9"
   ]
  },
  {
   "cell_type": "code",
   "execution_count": null,
   "metadata": {},
   "outputs": [],
   "source": [
    "e_road_n = len(e_road.nodes())\n",
    "e_road_deg = degrees(e_road).mean()\n",
    "e_road_assort = nx.degree_assortativity_coefficient(e_road)\n",
    "e_road_path = nx.average_shortest_path_length(e_road)\n",
    "\n",
    "celegans_n = len(celegans.nodes())\n",
    "celegans_deg = degrees(celegans).mean()\n",
    "celegans_assort = nx.degree_assortativity_coefficient(celegans)\n",
    "celegans_path = nx.average_shortest_path_length(celegans)\n",
    "\n",
    "airport_n = len(airport.nodes())\n",
    "airport_deg = degrees(airport).mean()\n",
    "airport_assort = nx.degree_assortativity_coefficient(airport)\n",
    "airport_path = e_road_path = nx.average_shortest_path_length(airport)\n",
    "\n",
    "protein_n = len(protein.nodes())\n",
    "protein_deg = degrees(protein).mean()\n",
    "protein_assort = nx.degree_assortativity_coefficient(protein)\n",
    "protein_path = e_road_path = nx.average_shortest_path_length(protein)"
   ]
  },
  {
   "cell_type": "markdown",
   "metadata": {},
   "source": [
    "Para cálculo da modularidade será utilizado o igraph. Em alguns casos, os agrupamentos só funcionaram após a extração do maior componente conexo e remoção de arestas múltiplas."
   ]
  },
  {
   "cell_type": "code",
   "execution_count": null,
   "metadata": {},
   "outputs": [],
   "source": [
    "e_road_ig = igraph.Graph.Read_Edgelist('datasets/euroroad', directed=False)\n",
    "e_road_ig = e_road_ig.clusters().giant()\n",
    "e_road_gv = e_road_ig.community_edge_betweenness().as_clustering()   \n",
    "e_road_lv = e_road_ig.community_multilevel()\n",
    "e_road_lp = e_road_ig.community_label_propagation()\n",
    "e_road_fg = e_road_ig.community_fastgreedy().as_clustering()\n",
    "print(e_road_gv.modularity)\n",
    "print(e_road_lv.modularity)\n",
    "print(e_road_lp.modularity)\n",
    "print(e_road_fg.modularity)\n",
    "print('\\n')\n",
    "\n",
    "celegans_ig = igraph.Graph.Read_Edgelist('datasets/C-elegans-frontal.txt', directed=False)\n",
    "celegans_ig = celegans_ig.clusters().giant()\n",
    "celegans_ig.simplify(multiple=True)\n",
    "celegans_gv = celegans_ig.community_edge_betweenness().as_clustering()   \n",
    "celegans_lv = celegans_ig.community_multilevel()\n",
    "celegans_lp = celegans_ig.community_label_propagation()\n",
    "celegans_fg = celegans_ig.community_fastgreedy().as_clustering()\n",
    "print(celegans_gv.modularity)\n",
    "print(celegans_lv.modularity)\n",
    "print(celegans_lp.modularity)\n",
    "print(celegans_fg.modularity)\n",
    "print('\\n')"
   ]
  },
  {
   "cell_type": "code",
   "execution_count": null,
   "metadata": {},
   "outputs": [],
   "source": [
    "nx.write_gml(airport, 'datasets/ex9_airports')\n",
    "airports_ig = igraph.Graph.Read('datasets/ex9_airports', format='gml')\n",
    "\n",
    "airports_gv = airports_ig.community_edge_betweenness().as_clustering()   \n",
    "airports_lv = airports_ig.community_multilevel()\n",
    "airports_lp = airports_ig.community_label_propagation()\n",
    "airports_fg = airports_ig.community_fastgreedy().as_clustering()\n",
    "print(airports_gv.modularity)\n",
    "print(airports_lv.modularity)\n",
    "print(airports_lp.modularity)\n",
    "print(airports_fg.modularity)"
   ]
  },
  {
   "cell_type": "code",
   "execution_count": null,
   "metadata": {},
   "outputs": [],
   "source": [
    "protein_ig = igraph.Graph.Read_Edgelist('datasets/out.maayan-vidal', directed=False)\n",
    "protein_ig = protein_ig.clusters().giant()\n",
    "\n",
    "protein_gv = protein_ig.community_edge_betweenness().as_clustering()   \n",
    "protein_lv = protein_ig.community_multilevel()\n",
    "protein_lp = protein_ig.community_label_propagation()\n",
    "protein_fg = protein_ig.community_fastgreedy().as_clustering()\n",
    "print(protein_gv.modularity)\n",
    "print(protein_lv.modularity)\n",
    "print(protein_lp.modularity)\n",
    "print(protein_fg.modularity)\n",
    "print('\\n')"
   ]
  },
  {
   "cell_type": "markdown",
   "metadata": {},
   "source": [
    "### Tabela final"
   ]
  },
  {
   "cell_type": "code",
   "execution_count": null,
   "metadata": {},
   "outputs": [],
   "source": [
    "df9 = pd.DataFrame(columns=['Network','N','Avg. Degree','Assortativity','Avg. Short. Path','Mod. Fast Greedy', \n",
    "                            'Mod. Label Prop.', 'Mod. Givan Newman', 'Mod. Louvain'])\n",
    "\n",
    "df9.loc[0] = ['E-road', e_road_n, e_road_deg, e_road_assort, e_road_path, e_road_gv.modularity, \n",
    "              e_road_lv.modularity, e_road_lp.modularity, e_road_fg.modularity]\n",
    "\n",
    "df9.loc[1] = ['C.elegans', celegans_n, celegans_deg, celegans_assort, celegans_path, celegans_gv.modularity, \n",
    "              celegans_lv.modularity, celegans_lp.modularity, celegans_fg.modularity]\n",
    "\n",
    "df9.loc[2] = ['US Airports', airport_n, airport_deg, airport_assort, airport_path, airports_gv.modularity, \n",
    "              airports_lv.modularity, airports_lp.modularity, airports_fg.modularity]\n",
    "\n",
    "df9.loc[3] = ['Protein', protein_n, protein_deg, protein_assort, protein_path, protein_gv.modularity, \n",
    "              protein_lv.modularity, protein_lp.modularity, protein_fg.modularity]\n",
    "\n",
    "df9"
   ]
  },
  {
   "cell_type": "markdown",
   "metadata": {},
   "source": [
    "Na rede E-road, onde predominam vértices de grau baixo, houve maior modularidade. Além disso, quando comparada às demais redes, os vértices da E-road tem uma tendência maior que as outras redes de formar conexões entre vértices de graus semelhantes (pela assortatividade) e shortest paths mais longos. É possível constatar que esta rede apresenta componentes densamente populados por vértices de grau baixo, resultando no fato de que poucos vértices teriam grau suficiente parar formar conexões com comunidades diferentes. Isto pode ter influenciado o resultado observado para a modularidade das comunidades, que sugerem que há baixa interação intercomunidades.\n",
    "\n",
    "O oposto se verifica nas redes C. elegans. Baixa assortatividade e maior ocorrência de vértices de grau maior sugerem que vértices menores formam conexões com vértices de graus diferentes sem um padrão definido. Os menores caminhos são mais curtos, sugerindo maior proximidade entre as comunidades. Estes fatores podem explicar o baixo valor observado para a modularidade em todos os algoritmos.\n",
    "\n",
    "A rede US airports apresenta o maior número de ocorrências de vértices de grau alto. Junta-se a isso o valor negativo de assortatividade, o que sugere que os vértices de grau menor conectam-se mais aos hubs do que com outros vértices de grau menor. Isto é compreensível dado que se trata de uma rede aeroportos. A modularidade foi baixa para todos os algoritmos, indicando que as comunidades de nós apresentam número considerável de conexões entre si. É possível que o alto grau dos hubs tenha influenciado na modularidade, conectando-se a vértices distantes e assim provocando interações entre comunidades diferentes.\n",
    "\n",
    "Por fim, a rede protein tem a maior quantidade de vértices, os quais são majoritariamente de grau baixo. A assortatividade apresenta o valor mais negativo de todas as redes, indicando que os nós de grau baixo tem maior tendência a se conectar com vértices de grau alto. Tal qual a rede US Airports, a rede Protein tem assortatividade negativa. No entanto, ao contrário da rede US Airports, a Protein tem grau médio menor: é de se esperar que os hubs, que aqui tem menos conexões, não sejam capazes de interconectar vértices de diferentes comunidades. Isto pode ter resultado na rede Protein ter apresetado o segundo mais alto valor de modularidade observado para todos os algoritmos.\n"
   ]
  },
  {
   "cell_type": "markdown",
   "metadata": {},
   "source": [
    "### Exercício 10"
   ]
  },
  {
   "cell_type": "markdown",
   "metadata": {},
   "source": [
    "Neste exercício, diferentes métricas e algoritmos de detecção de comunidades serão aplicados sobre a rede formada pelas interações entre personagens dos livros da coleção A Song of Ice and Fire (Game of Thrones). Os resultados serão analisados e comparados, e a partir deles serão levantadas hipóteses a respeito do impacto das características da rede no desenvolvimento da história.\n",
    "\n",
    "Neste grafo, os vértices representam personagens e as arestas ponderadas e direcionadas indicam o número de vezes que as duas personagens apareceram em até 15 palavras de distância uma da outra. A origem da aresta denota o personagem que foi citado primeiro."
   ]
  },
  {
   "cell_type": "code",
   "execution_count": null,
   "metadata": {},
   "outputs": [],
   "source": [
    "def load_asoiaf():\n",
    "    asoiaf_edges = pd.read_csv('datasets/asoiaf/data/asoiaf-all-edges.csv')\n",
    "    edges = [tuple(x) for x in asoiaf_edges[['Source','Target']].values]\n",
    "    asoiaf = igraph.Graph.TupleList(edges, directed=True)\n",
    "    asoiaf.vs['label'] = asoiaf.vs['name']\n",
    "    return asoiaf\n",
    "\n",
    "asoiaf = load_asoiaf()"
   ]
  },
  {
   "cell_type": "code",
   "execution_count": null,
   "metadata": {},
   "outputs": [],
   "source": [
    "vertex = {}\n",
    "for index, v in enumerate(asoiaf.vs):\n",
    "    vertex[index] = asoiaf.degree(v, type='in')+asoiaf.degree(v, type='out')\n",
    "\n",
    "vertex = sorted(vertex.items(), key=operator.itemgetter(1), reverse=True)\n",
    "vertex = [v[0] for v in vertex]\n",
    "vertex=  vertex[30:]\n",
    "asoiaf.delete_vertices(vertex)"
   ]
  },
  {
   "cell_type": "code",
   "execution_count": null,
   "metadata": {},
   "outputs": [],
   "source": [
    "layout = asoiaf.layout('drl')\n",
    "igraph.plot(asoiaf, layout=layout, bbox=[0,0,700,700])"
   ]
  },
  {
   "cell_type": "markdown",
   "metadata": {},
   "source": [
    "Ajustando o tamanho do vértice pelo grau, temos:"
   ]
  },
  {
   "cell_type": "code",
   "execution_count": null,
   "metadata": {},
   "outputs": [],
   "source": [
    "vertex_size = [v for v in asoiaf.degree()]\n",
    "igraph.plot(asoiaf, layout=layout, vertex_size = vertex_size, bbox=[0,0,700,700])"
   ]
  },
  {
   "cell_type": "markdown",
   "metadata": {},
   "source": [
    "\n",
    "\n",
    "A seguir, mede-se a importância relativa de cada personagem segundo diferentes critérios de centralidade, ilustrando-o por meio do tamanho de cada vértice."
   ]
  },
  {
   "cell_type": "markdown",
   "metadata": {},
   "source": [
    "### Page rank"
   ]
  },
  {
   "cell_type": "code",
   "execution_count": null,
   "metadata": {},
   "outputs": [],
   "source": [
    "asoiaf.vs['pg'] = asoiaf.pagerank()\n",
    "vertex_size = asoiaf.vs['pg']\n",
    "igraph.plot(asoiaf, layout=layout, vertex_size=[v*1000 for v in vertex_size])"
   ]
  },
  {
   "cell_type": "markdown",
   "metadata": {},
   "source": [
    "### Betweenness"
   ]
  },
  {
   "cell_type": "code",
   "execution_count": null,
   "metadata": {},
   "outputs": [],
   "source": [
    "asoiaf.vs['bt'] = asoiaf.betweenness()\n",
    "vertex_size = asoiaf.vs['bt']\n",
    "igraph.plot(asoiaf, layout=layout, vertex_size=[v*2 for v in vertex_size])"
   ]
  },
  {
   "cell_type": "markdown",
   "metadata": {},
   "source": [
    "É evidente que há uma grande discrepância entre as duas métricas de centralidade. O personagem Varys, por exemplo, recebe  grande importância no Page Rank, presumivelmente por estar presente em cenas com outros personagens importantes. Sua importância diminui, no entanto, no betweenness centrality. É possível que isto ocorra por, apesar de estar em cena com personagens importantes, estar relacionado com uma quantidade menor de personagens, implicando na menor quantidade de caminhos atravessando o nó que representa Varys. Fenômeno semelhante ocorre com outros nós mais importantes do Page Rank, como Tywin Lannister.\n",
    "\n",
    "Os resultados do Page Rank parecem fazer mais sentido em função da narrativa, dado que os nós mais centrais coincidem, com certa precisão, com os personagens que exercem maior influência no desenvolvimento da trama. Curiosamente, a despeito disso, personagens  importantes como Cersei Lannister, Jaime Lannister e Daenerys Targaryen receberam pouca importância nos dois algoritmos."
   ]
  },
  {
   "cell_type": "code",
   "execution_count": null,
   "metadata": {},
   "outputs": [],
   "source": [
    "asoiaf = load_asoiaf()\n",
    "asoiaf_df = pd.DataFrame(columns=['Assortativty','Avg.Degree','Degree Std.Dev.','Median Degree','Max.Degree',\n",
    "                                  'Avg. Shortest Path','Transitivity'])\n",
    "\n",
    "degs = np.array(asoiaf.degree())\n",
    "asoiaf_df.loc[0] = [asoiaf.assortativity_degree(), degs.mean(), degs.std(), np.median(degs),asoiaf.maxdegree(),\n",
    "                       np.mean(asoiaf.shortest_paths(mode='ALL')), asoiaf.transitivity_avglocal_undirected()]\n",
    "asoiaf_df"
   ]
  },
  {
   "cell_type": "markdown",
   "metadata": {},
   "source": [
    "A assortatividade negativa favorece a hipótese de que personagens com menor número de conexões tem tendência de interagir com personagens mais conectados, o que possivelmente decorre da característica de narrativas de ficção dos personagens secundários orbitarem em torno dos protagonistas. A transitividade é alta: dois personagens que interagem com um terceiro tendem a interagir entre si. \n",
    "\n",
    "É relevante a enorme diferença entre o grau médio e o grau máximo. Isto pode ser resultado dos livros terem grande quantidade de personagems figurantes e ter narração concentrada no desenvolvimento de seus protagonistas, provocando a enorme diferença de participação na história que os graus da rede sugerem. É possível investigar de forma mais detalhada analisando a distribuição de graus conforme abaixo:"
   ]
  },
  {
   "cell_type": "code",
   "execution_count": null,
   "metadata": {},
   "outputs": [],
   "source": [
    "fig, axis = plt.subplots(1,2)\n",
    "pd.Series(asoiaf.degree()).hist(ax=axis[0]);\n",
    "axis[0].set_title('Distribuição de grau dos vértices\\nA Song of Ice and Fire');\n",
    "sns.boxplot(asoiaf.degree(), orient='v', ax=axis[1]);\n",
    "axis[1].set_title('Boxplot: Graus dos vértices\\n');"
   ]
  },
  {
   "cell_type": "markdown",
   "metadata": {},
   "source": [
    "Verifica-se a forte assimetria da distribuição de graus, além da presença de quantidade considerável de outliers densamente conectados. É possível que estes outliers atuem como hubs e contribuam para o valor baixo observado do shortest average path, dado que as suas conexões podem estabelecer caminhos menores entre personagens de baixo grau que, na ausência dos hubs, teriam que percorrer grandes distâncias para interagir."
   ]
  },
  {
   "cell_type": "code",
   "execution_count": null,
   "metadata": {},
   "outputs": [],
   "source": [
    "deg, count = np.unique(np.array(asoiaf.degree()), return_counts=True)\n",
    "scatter = sns.scatterplot(x=deg, y=count)\n",
    "scatter.set(xscale='log', yscale='log')\n",
    "plt.title('Quantidade de personagens com cada valor de grau\\nA song of Ice and Fire');"
   ]
  },
  {
   "cell_type": "markdown",
   "metadata": {},
   "source": [
    "A distribuição de graus parece seguir uma lei de potências. Isto talvez permita especular sobre o impacto da morte de personagens na narrativa, o que é característica marcante dos livros da série. Redes que seguem a lei de potência são livres de escala, o que implica na robustez a falhas. Neste contexto, isto pode significar que a eliminação aleatória de personagens não deve impactar significativamente a rede de personagens e, por consequência, não deve afetar o andar da narrativa. É plausível supor, no entanto, que a eliminação dos hubs por meio de ataques deve ainda causar impacto, visto que causaria considerável reconfiguração das conexões entre os personagens e, provavelmente, teria reflexos na trama política da série.\n",
    "\n",
    "Avalia-se esta hipótese analisando alguns destes hubs:"
   ]
  },
  {
   "cell_type": "code",
   "execution_count": null,
   "metadata": {},
   "outputs": [],
   "source": [
    "ranks = np.argsort(np.array(asoiaf.degree()))\n",
    "print([asoiaf.vs[rank]['name'] for rank in ranks[-1:-10:-1]])"
   ]
  },
  {
   "cell_type": "markdown",
   "metadata": {},
   "source": [
    "De fato, a remoção de nós como Eddard Stark e Stannis Baratheon redefiniram os rumos da narrativa. É provável que a remoçã ode nós como Tyrion Lannister provocasse ainda maior impacto, dado a sua conectividade.\n",
    "\n",
    "Por fim, estuda-se as comunidades formadas:"
   ]
  },
  {
   "cell_type": "code",
   "execution_count": null,
   "metadata": {},
   "outputs": [],
   "source": [
    "asoiaf = load_asoiaf()\n",
    "\n",
    "asoiaf.to_undirected()\n",
    "\n",
    "gn = asoiaf.community_edge_betweenness().as_clustering()\n",
    "lv = asoiaf.community_multilevel()\n",
    "lp = asoiaf.community_label_propagation()\n",
    "fg = asoiaf.community_fastgreedy().as_clustering()\n",
    "im = asoiaf.community_infomap()\n",
    "nc = asoiaf.community_spinglass()"
   ]
  },
  {
   "cell_type": "code",
   "execution_count": null,
   "metadata": {},
   "outputs": [],
   "source": [
    "df_mod = pd.DataFrame(columns=['Girvan-Newman','Louvain','Label propagation','Fast Greedy','Infomap','Netcarto'])\n",
    "df_mod.loc[0] = [gn.modularity,lv.modularity,lp.modularity,fg.modularity,im.modularity,nc.modularity]\n",
    "df_mod"
   ]
  },
  {
   "cell_type": "markdown",
   "metadata": {},
   "source": [
    "O método netcarto foi capaz de atingir o maior valor de modularidade. Inspecionando os resultados, temos:"
   ]
  },
  {
   "cell_type": "code",
   "execution_count": null,
   "metadata": {},
   "outputs": [],
   "source": [
    "vertex = {}\n",
    "for index, v in enumerate(asoiaf.vs):\n",
    "    vertex[index] = asoiaf.degree(v, type='in')+asoiaf.degree(v, type='out')\n",
    "\n",
    "vertex = sorted(vertex.items(), key=operator.itemgetter(1), reverse=True)\n",
    "vertex = [v[0] for v in vertex]\n",
    "vertex=  vertex[30:]\n",
    "asoiaf.delete_vertices(vertex)\n",
    "nc = asoiaf.community_spinglass()\n",
    "\n",
    "igraph.plot(nc, layout=layout, bbox=[0,0,700,700])"
   ]
  },
  {
   "cell_type": "markdown",
   "metadata": {},
   "source": [
    "As comunidades detectadas têm sentido narrativo, dado que refletem a divisão que prevalece ao longo de boa parte da história, em que os cenários se desenvolvem simultaneamente ao norte (com personagens da comunidade vermelha) e ao sul do continente (onde se localizam os personagens da comunidade verde)."
   ]
  }
 ],
 "metadata": {
  "kernelspec": {
   "display_name": "Python 3",
   "language": "python",
   "name": "python3"
  },
  "language_info": {
   "codemirror_mode": {
    "name": "ipython",
    "version": 3
   },
   "file_extension": ".py",
   "mimetype": "text/x-python",
   "name": "python",
   "nbconvert_exporter": "python",
   "pygments_lexer": "ipython3",
   "version": "3.7.3"
  }
 },
 "nbformat": 4,
 "nbformat_minor": 2
}
